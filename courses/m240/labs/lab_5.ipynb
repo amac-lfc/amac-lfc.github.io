{
 "cells": [
  {
   "cell_type": "markdown",
   "metadata": {},
   "source": [
    "# Lab 4: Solving ODE"
   ]
  },
  {
   "cell_type": "code",
   "execution_count": 5,
   "metadata": {},
   "outputs": [],
   "source": [
    "# IMPORTS\n",
    "import numpy as np\n",
    "import matplotlib.pyplot as plt"
   ]
  },
  {
   "cell_type": "markdown",
   "metadata": {},
   "source": [
    "### Exercise 1\n",
    "\n",
    "Find the PLU decomposition of\n",
    "\n",
    "1. $A=\\begin{bmatrix}1 & 2 & -1\\\\2 & 4 & 0 \\\\ 0& 1 & -1 \\end{bmatrix}$\n",
    "\n",
    "2. $A=\\begin{bmatrix}0 & 1 & 1\\\\1 & -2 & -1 \\\\ 1& -1 & 1 \\end{bmatrix}$\n",
    "\n",
    "3. $A=\\begin{bmatrix}1 & 1 & -1 & 0\\\\1 & 1  & 4 & 3 \\\\ 2& -1 & 2 & 4 \\\\ 2& -1 & 2 & 3 \\end{bmatrix}$\n",
    "\n",
    "4. $A=\\begin{bmatrix}0 & 1 & 1 & 2\\\\ 0 & 1  & 1 & -1 \\\\ 1 & 2 & -1 & 3 \\\\ 1& 1 & 2 & 0 \\end{bmatrix}$"
   ]
  },
  {
   "cell_type": "markdown",
   "metadata": {},
   "source": [
    "### Exercise 2\n",
    "\n",
    "Test the LU (direct solver) from scipy."
   ]
  },
  {
   "cell_type": "code",
   "execution_count": null,
   "metadata": {},
   "outputs": [],
   "source": []
  },
  {
   "cell_type": "markdown",
   "metadata": {},
   "source": [
    "### Exercise 3\n",
    "\n",
    " Solve the systems\n",
    "1. $\\begin{cases}\n",
    "  4x_1-x_2+x_3&=8\\\\\n",
    "  2x_1-x_2+x_3 &= 3\\\\\n",
    "  x_1+2x_2+4x_3 &= 11\\\\\n",
    "  \\end{cases}\n",
    "$\n",
    "\n",
    "2. $\\begin{cases}\n",
    "  -x_1+4x_2+x_3&=8\\\\\n",
    "  \\frac{5}{3}x_1+\\frac{2}{3}x_2+\\frac{2}{3}x_3 &= 1\\\\\n",
    "  2x_1+2x_2+4x_3 &= 11\\\\\n",
    "  \\end{cases}$\n",
    "  \n",
    "3.$\\begin{cases}\n",
    "  x_2-2x_3&=4\\\\\n",
    "  x_1-x_2+x_3 &= 6\\\\\n",
    "  x_1-x_3 &= 11\\\\\n",
    "  \\end{cases}$"
   ]
  },
  {
   "cell_type": "code",
   "execution_count": null,
   "metadata": {},
   "outputs": [],
   "source": []
  },
  {
   "cell_type": "markdown",
   "metadata": {},
   "source": [
    "### Exercise 4\n",
    "\n",
    " Solve the systems\n",
    "  \n",
    "1. $\\begin{cases}\n",
    "  x_1+x_2+x_4 &=2\\\\\n",
    "  2x_1+x_2-x_3+x_4 &= 1\\\\\n",
    "  -x_1+2x_2+3x_3-x_4 &= 4\\\\\n",
    "  3x_1-x_2-x_3+2x_4 &= -3\n",
    "  \\end{cases}$\n",
    "\n",
    "1. $\\begin{cases}\n",
    "  2x_1-x_2+x_3-x_4 &=6\\\\\n",
    "  x_2-x_3+x_4 &= 5\\\\\n",
    "  x_4 &= 5\\\\\n",
    "  x_3-x_4 &= 5\n",
    "  \\end{cases}$\n",
    "\n",
    "2. $\\begin{cases}\n",
    "  2x_1+x_2 &=3\\\\\n",
    "  -x_1+2x_2+x_3 &= 2\\\\\n",
    "  -x_2+2x_3+x_4 &= 2\\\\\n",
    "  -x_3+2x_4+x_5 & =2 \\\\\n",
    "  -x_4+2x_5 &= 1\n",
    "  \\end{cases}$"
   ]
  },
  {
   "cell_type": "code",
   "execution_count": null,
   "metadata": {},
   "outputs": [],
   "source": []
  },
  {
   "cell_type": "markdown",
   "metadata": {},
   "source": [
    "### Exercise 5\n",
    "\n",
    "Solve the tridiagonal system $Ax=f$ with\n",
    "$$ A_{ii}=4,\\enspace A_{i,i-1}=A_{i,i+1}=1 $$\n",
    "for all $i$. Let the order of the system be $n=100$, and let\n",
    "$$ f = [1,1,\\dots, 1]^T $$"
   ]
  },
  {
   "cell_type": "code",
   "execution_count": null,
   "metadata": {},
   "outputs": [],
   "source": []
  }
 ],
 "metadata": {
  "kernelspec": {
   "display_name": "Python 3",
   "language": "python",
   "name": "python3"
  },
  "language_info": {
   "codemirror_mode": {
    "name": "ipython",
    "version": 3
   },
   "file_extension": ".py",
   "mimetype": "text/x-python",
   "name": "python",
   "nbconvert_exporter": "python",
   "pygments_lexer": "ipython3",
   "version": "3.6.9"
  }
 },
 "nbformat": 4,
 "nbformat_minor": 4
}
