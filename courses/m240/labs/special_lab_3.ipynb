{
 "cells": [
  {
   "cell_type": "markdown",
   "metadata": {},
   "source": [
    "# Special Lab 3"
   ]
  },
  {
   "cell_type": "code",
   "execution_count": 1,
   "metadata": {},
   "outputs": [],
   "source": [
    "# IMPORTS"
   ]
  },
  {
   "cell_type": "markdown",
   "metadata": {},
   "source": [
    "## Exericse 1\n",
    "\n",
    "Suppose a body of mass $m$ is traveling vertically upward starting at the surface of the earth. If all resistance except gravity is neglected, the escape velocity $v$; is given by\n",
    "$$ v^2=2gR\\int_1^\\infty z^{-2}dx,$$\n",
    "where $z=\\frac{x}{R}$, $R=3960$ miles is the raduis of the earth, and $g=0.00609$ $mi/s^2$ is the force of gravity at earth's surface. Approximate the escape velocity."
   ]
  },
  {
   "cell_type": "code",
   "execution_count": null,
   "metadata": {},
   "outputs": [],
   "source": []
  },
  {
   "cell_type": "markdown",
   "metadata": {},
   "source": [
    "## Exercise 2\n",
    "\n",
    "In a circuit with impressed voltage #\\varepsilon{t)$ and inductance $L$, Kirchhoff's first law gives the relationship \n",
    "\n",
    "$\\varepsilon (t)=L\\frac{di}{dt}+Ri$$\n",
    "\n",
    "($di/dt = i'(t)$), where $R$ is the resistance in the circuit and $i$ is the current. Supposed we measure the current for several values of $t$ and obtain:\n",
    "\n",
    "\n",
    "| t | 1.00 | 1.01| 1.02 | 1.03 | 1.04 |\n",
    "| :------------- | :----------: | :----------: | :----------: | :----------: | -----------: |\n",
    "| i | 3.10 | 3.12| 3.14 | 3.18 | 3.24 |\n",
    " \n",
    "where t is measured in seconds, i is in amperes, the inductance L is a constant 0.98 henries, and the resistance is 0.142 ohms. Approximate the voltage $\\varepsilon(t)$ when t = 1.00, 1.01, 1.02, 1.03, and 1.04. "
   ]
  },
  {
   "cell_type": "code",
   "execution_count": null,
   "metadata": {},
   "outputs": [],
   "source": []
  },
  {
   "cell_type": "markdown",
   "metadata": {},
   "source": [
    "## Exercise 3\n",
    "\n",
    "Let\n",
    "$$f(x)=\\arctan(1/x).$$\n",
    "Without computing the derivative of $f$, find a way to approximate and plot the derivative of $f$ on the interval $[1,10]$."
   ]
  },
  {
   "cell_type": "code",
   "execution_count": 6,
   "metadata": {},
   "outputs": [],
   "source": []
  },
  {
   "cell_type": "markdown",
   "metadata": {},
   "source": [
    "## Exercise 4\n",
    "\n",
    "In mathematics, the error function (also called the Gauss error function), often denoted by erf(x), it is also  the normal distribution error function, is defined by\n",
    "\n",
    "$$erf(x)=\\frac{2}{\\sqrt{\\pi}}\\int_0^xe^{-t^2}dt $$\n",
    "\n",
    "Approximate erf(l) to within 1E-7\n"
   ]
  },
  {
   "cell_type": "code",
   "execution_count": null,
   "metadata": {},
   "outputs": [],
   "source": []
  }
 ],
 "metadata": {
  "kernelspec": {
   "display_name": "Python 3",
   "language": "python",
   "name": "python3"
  },
  "language_info": {
   "codemirror_mode": {
    "name": "ipython",
    "version": 3
   },
   "file_extension": ".py",
   "mimetype": "text/x-python",
   "name": "python",
   "nbconvert_exporter": "python",
   "pygments_lexer": "ipython3",
   "version": "3.6.9"
  }
 },
 "nbformat": 4,
 "nbformat_minor": 4
}
