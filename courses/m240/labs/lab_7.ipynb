{
 "cells": [
  {
   "cell_type": "markdown",
   "metadata": {},
   "source": [
    "# Lab 7: Minimization"
   ]
  },
  {
   "cell_type": "code",
   "execution_count": 22,
   "metadata": {},
   "outputs": [],
   "source": [
    "# IMPORTS\n",
    "import numpy as np\n",
    "import matplotlib.pyplot as plt"
   ]
  },
  {
   "cell_type": "markdown",
   "metadata": {},
   "source": [
    "### Exercise 1\n",
    "\n",
    "Code the gradient descent method and **test it**."
   ]
  },
  {
   "cell_type": "code",
   "execution_count": null,
   "metadata": {},
   "outputs": [],
   "source": []
  },
  {
   "cell_type": "markdown",
   "metadata": {},
   "source": [
    "### Exercise 2\n",
    "\n",
    " Minimize the function below\n",
    "$$D(x_1,x_2)=x_1^4+x_1x_2+(1+x_2)^2$$"
   ]
  },
  {
   "cell_type": "code",
   "execution_count": null,
   "metadata": {},
   "outputs": [],
   "source": []
  },
  {
   "cell_type": "markdown",
   "metadata": {},
   "source": [
    "### Exercise 3\n",
    "\n",
    "Minimize the function\n",
    "$$ f(x_1,x_2) = (1-x_1)^2+100(x_2-x_1^2)^2$$"
   ]
  },
  {
   "cell_type": "code",
   "execution_count": null,
   "metadata": {},
   "outputs": [],
   "source": []
  },
  {
   "cell_type": "markdown",
   "metadata": {},
   "source": [
    "### Exercise 4\n",
    "\n",
    "Minimize the function\n",
    "$$ f(x,y) = \\sin\\left(\\frac{1}{2}x^2-\\frac{1}{4}y^2+3\\right) \\cos(2x+1-e^y)$$"
   ]
  },
  {
   "cell_type": "code",
   "execution_count": null,
   "metadata": {},
   "outputs": [],
   "source": []
  },
  {
   "cell_type": "markdown",
   "metadata": {},
   "source": [
    "### Exercise 4\n",
    "\n",
    "\n",
    "The file __[car\\_efficiency.csv](https://raw.githubusercontent.com/amac-lfc/amac-lfc.github.io/master/courses/m240/labs/car_efficiency.csv)__ contains the MPGs and the weights of different cars.\n",
    "\n",
    "1 . Find the linear regression model, this means, let\n",
    "$$ x_i = \\mbox{MPG of the ith car},$$\n",
    "$$ y_i = \\mbox{weight of the ith car},$$\n",
    "$$y_i \\approx a\\cdot x_i + b,\\mbox{ for all } i$$\n",
    "It should look like:\n",
    "\n",
    "![alt text](https://raw.githubusercontent.com/amac-lfc/amac-lfc.github.io/master/courses/m240/labs/fig.png)\n",
    "\n",
    "2. Estimate the weight of a car if the mileage is 32 MPG\n",
    "\n",
    "To read the file use the following command:\n",
    "\n",
    "```python\n",
    "import pandas as pd\n",
    "df = pd.read_csv(\"car_efficiency.csv\") # read the csv file and put the data into the data frame df\n",
    "values = df.values # puit all the values of the data frame into an array values, where the first column is x and the second colum is y\n",
    "x = values[:,0]\n",
    "y = values[:,1]\n",
    "```"
   ]
  },
  {
   "cell_type": "code",
   "execution_count": null,
   "metadata": {},
   "outputs": [],
   "source": []
  },
  {
   "cell_type": "markdown",
   "metadata": {},
   "source": [
    "## Exercise 5\n",
    "The file __[area\\_price.csv](https://raw.githubusercontent.com/amac-lfc/amac-lfc.github.io/master/courses/m240/labs/area_price.csv)__ contains the area and price of different listing. \n",
    "\n",
    "1. Find second order regressiong between nodel. This means, let\n",
    "\n",
    "$$ x_i = \\mbox{area of the ith listing},$$\n",
    "$$ y_i = \\mbox{price of the ith listing},$$\n",
    "find $a$, $b$, and $c$ such that\n",
    "\n",
    "$$y_i \\approx a\\cdot x_i^2+b\\cdot x_i + c,\\mbox{ for all } i$$\n",
    "\n",
    "2. Estimate the price of the listing if the area is 2300"
   ]
  },
  {
   "cell_type": "code",
   "execution_count": null,
   "metadata": {},
   "outputs": [],
   "source": []
  }
 ],
 "metadata": {
  "kernelspec": {
   "display_name": "Python 3",
   "language": "python",
   "name": "python3"
  },
  "language_info": {
   "codemirror_mode": {
    "name": "ipython",
    "version": 3
   },
   "file_extension": ".py",
   "mimetype": "text/x-python",
   "name": "python",
   "nbconvert_exporter": "python",
   "pygments_lexer": "ipython3",
   "version": "3.6.9"
  }
 },
 "nbformat": 4,
 "nbformat_minor": 4
}
