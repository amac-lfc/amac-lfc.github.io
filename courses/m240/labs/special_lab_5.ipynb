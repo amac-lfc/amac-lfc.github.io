{
 "cells": [
  {
   "cell_type": "markdown",
   "metadata": {},
   "source": [
    "# Lab 5: Sequel"
   ]
  },
  {
   "cell_type": "code",
   "execution_count": 1,
   "metadata": {},
   "outputs": [],
   "source": [
    "# IMPORTS\n",
    "import numpy as np\n",
    "import matplotlib.pyplot as plt"
   ]
  },
  {
   "cell_type": "markdown",
   "metadata": {},
   "source": [
    "### Exercise\n",
    "\n",
    "Suppose the beetle has a natural life span of 4 years. The female of the species has a survival rate of $p$ in the first year of life, has a survival rate of $p_2$ from her second to her third year, and has a survival rate of $p_3$ from year 3 to year 4 before \n",
    "expiring at the end of her fourth year. The female beetle gives birth to an average of $b_1$ female beetles \n",
    "in her first year, $b_2$ female beetles in her second year, $b_3$ female beetles in her third year, and $b_4$ female \n",
    "beetles in her fourth year. \n",
    "\n",
    "A matrix $A = [a_{ij}]$ can be used to model the contributions an individual female beetle makes, \n",
    "in a probabilistic sense, to the female population of the species by letting ny denote the contribution \n",
    "that a single female beetle of age $j$ will make to the next year's female population of age $i$. We have \n",
    "$$A=\\begin{pmatrix}\n",
    "b_1 & b_2 & b_3 & b_4\\\\\n",
    "p_1 & 0 & 0 & 0 \\\\\n",
    "0 & p_2 & 0 & 0 \\\\\n",
    "0 & 0 & b_3 & 0\\\\\n",
    "\\end{pmatrix}\n",
    "$$\n",
    "1. Using the $LU$ decomposition or $PLU$ decomposition with $b_1 = 0$,$b_2 = 1/8$,$b_3 = 1/4$,$b_4 = \n",
    "1/2$, $p_2 = 1/2$, $p_2 = 1/4$, and $p_3 = 1/8$, find the number of females of each age that is needed \n",
    "so that the population after 1 year is $b = [175,100,50,25]$. \n",
    "\n",
    "2.Repeat part 1. using $b = [100,100, 100, 100]$. What does your answer mean? "
   ]
  },
  {
   "cell_type": "code",
   "execution_count": null,
   "metadata": {},
   "outputs": [],
   "source": []
  }
 ],
 "metadata": {
  "kernelspec": {
   "display_name": "Python 3",
   "language": "python",
   "name": "python3"
  },
  "language_info": {
   "codemirror_mode": {
    "name": "ipython",
    "version": 3
   },
   "file_extension": ".py",
   "mimetype": "text/x-python",
   "name": "python",
   "nbconvert_exporter": "python",
   "pygments_lexer": "ipython3",
   "version": "3.6.9"
  }
 },
 "nbformat": 4,
 "nbformat_minor": 4
}
