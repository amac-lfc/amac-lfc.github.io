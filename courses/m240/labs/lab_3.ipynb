{
 "cells": [
  {
   "cell_type": "markdown",
   "metadata": {},
   "source": [
    "# Lab 2: Root Finding"
   ]
  },
  {
   "cell_type": "code",
   "execution_count": 4,
   "metadata": {},
   "outputs": [],
   "source": [
    "# IMPORTS"
   ]
  },
  {
   "cell_type": "markdown",
   "metadata": {},
   "source": [
    "## Trapezoidal and Simpson's Rules"
   ]
  },
  {
   "cell_type": "markdown",
   "metadata": {},
   "source": [
    "### Exercise 1\n",
    "\n",
    "Write a function that compute the integral using the Trapezoidal Rule. The function should take in arguments $f$, $a$, $b$, and $n$ (the number of points). Then, test your function and explain why you can conclude that your Trapezoidal function is correct. Your test should look similar to this:\n",
    "\n",
    "![](https://raw.githubusercontent.com/amac-lfc/amac-lfc.github.io/master/courses/m240/labs/capture2.png)"
   ]
  },
  {
   "cell_type": "code",
   "execution_count": null,
   "metadata": {},
   "outputs": [],
   "source": []
  },
  {
   "cell_type": "markdown",
   "metadata": {},
   "source": [
    "### Exercise 2\n",
    "\n",
    "Write a function that compute the integral using the  Simpson's Rule Rule. The function should take in arguments $f$, $a$, $b$, and $n$ (the number of points). Then, test your function and explain why you can conclude that your Simpson function is correct."
   ]
  },
  {
   "cell_type": "code",
   "execution_count": 6,
   "metadata": {},
   "outputs": [],
   "source": []
  },
  {
   "cell_type": "markdown",
   "metadata": {},
   "source": [
    "### Exercise 3\n",
    "\n",
    "Use the Trapezoidal Rule and Simpson's Rule with $n=100$ to find approximate values of the following integrals.\n",
    "1. $\\int_0^{10} e^{-x^2} dx$, \n",
    "2. $\\int_0^{2} \\cos(\\pi(1+x^2)) dx$, \n",
    "3. $\\int_0^{1} \\sqrt{x}e^{x} dx$, "
   ]
  },
  {
   "cell_type": "code",
   "execution_count": null,
   "metadata": {},
   "outputs": [],
   "source": []
  },
  {
   "cell_type": "markdown",
   "metadata": {},
   "source": [
    "### Exercise 4\n",
    "\n",
    " Use the Trapezoidal Rule and Simpson's Rule with $n=50$ to find the length of the curves\n",
    "\n",
    "1. $f(x) = \\sin(\\pi x)$, $0\\leq x \\leq 5$ \n",
    "2. $f(x) = e^x$, $0\\leq x \\leq 2$ \n",
    "3. $f(x) = e^{x^2}$, $0\\leq x \\leq 2$ \n",
    "\n",
    " \n",
    "Remember the length of the curve is\n",
    "$$\\int_a^b \\sqrt{1+[f'(x)'^2}dx$$"
   ]
  },
  {
   "cell_type": "code",
   "execution_count": null,
   "metadata": {},
   "outputs": [],
   "source": []
  },
  {
   "cell_type": "markdown",
   "metadata": {},
   "source": [
    "## Numerical Derivatives"
   ]
  },
  {
   "cell_type": "markdown",
   "metadata": {},
   "source": [
    "### Exercise 5\n",
    "\n",
    " In the following instances, find the numerical derivative at the indicated point, using the backward, forward, and centered formula. Use $h=0.05$, then each case compute the error. Which one is more accurate?\n",
    " \n",
    "1. $e^x$ at $x=0$.\n",
    "2.  $\\tan^{-1}(x^2-x+1)$ at $x=1$.\n",
    "3. $\\tan^{-1}(100x^2-199x+100)$ at $x=1$."
   ]
  },
  {
   "cell_type": "code",
   "execution_count": null,
   "metadata": {},
   "outputs": [],
   "source": []
  },
  {
   "cell_type": "markdown",
   "metadata": {},
   "source": [
    "## Bonus"
   ]
  },
  {
   "cell_type": "markdown",
   "metadata": {},
   "source": [
    "### Exercise 6\n",
    "\n",
    "Using the Monte Carlo integration, compute the value of $\\pi$.\n"
   ]
  },
  {
   "cell_type": "code",
   "execution_count": null,
   "metadata": {},
   "outputs": [],
   "source": []
  }
 ],
 "metadata": {
  "kernelspec": {
   "display_name": "Python 3",
   "language": "python",
   "name": "python3"
  },
  "language_info": {
   "codemirror_mode": {
    "name": "ipython",
    "version": 3
   },
   "file_extension": ".py",
   "mimetype": "text/x-python",
   "name": "python",
   "nbconvert_exporter": "python",
   "pygments_lexer": "ipython3",
   "version": "3.6.9"
  }
 },
 "nbformat": 4,
 "nbformat_minor": 4
}
