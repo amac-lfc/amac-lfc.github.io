{
 "cells": [
  {
   "cell_type": "markdown",
   "metadata": {},
   "source": [
    "# Lab 4: Solving ODE"
   ]
  },
  {
   "cell_type": "code",
   "execution_count": 5,
   "metadata": {},
   "outputs": [],
   "source": [
    "# IMPORTS\n",
    "import numpy as np\n",
    "import matplotlib.pyplot as plt"
   ]
  },
  {
   "cell_type": "markdown",
   "metadata": {},
   "source": [
    "### Exercise 1\n",
    "\n",
    "Write a function that solve the system $Ax=b$ using the Jacobi method.Then test your functions with a test case, and explain why it works. "
   ]
  },
  {
   "cell_type": "code",
   "execution_count": null,
   "metadata": {},
   "outputs": [],
   "source": []
  },
  {
   "cell_type": "markdown",
   "metadata": {},
   "source": [
    "### Exercise 2\n",
    "\n",
    "Write a function that solve the system $Ax=b$ using the Gauss-Seidel method. Then test your functions with a test case, and explain why it works."
   ]
  },
  {
   "cell_type": "code",
   "execution_count": null,
   "metadata": {},
   "outputs": [],
   "source": []
  },
  {
   "cell_type": "markdown",
   "metadata": {},
   "source": [
    "### Exercise 3\n",
    "\n",
    "Solve the following systerms with the Jacobi Method\n",
    "1. $\\begin{cases}\n",
    "  4x_1+x_2+-x_3&=5\\\\\n",
    "  -x_1+3x_2+x_3 &= -4\\\\\n",
    "  2x_1+2x_2+5x_3 &= 1\\\\\n",
    "  \\end{cases}\n",
    "$\n",
    "\n",
    "2. $\\begin{cases}\n",
    "  4x_1+x_2-x_3+x_4&=-2\\\\\n",
    "  x_1+4x_2-x_3-x_4 &= -1\\\\\n",
    "  -x_1-x_2+5x_3+x_4 &= 0\\\\\n",
    "  x_1-x_2+x_3+3x_4 &= 1\\\\\n",
    "  \\end{cases}$"
   ]
  },
  {
   "cell_type": "code",
   "execution_count": null,
   "metadata": {},
   "outputs": [],
   "source": []
  },
  {
   "cell_type": "markdown",
   "metadata": {},
   "source": [
    "### Exercise 4\n",
    "\n",
    "Solve the following systerms with the Gaiss-Seidel Method\n",
    "1. $\\begin{cases}\n",
    "  4x_1+x_2+-x_3&=5\\\\\n",
    "  -x_1+3x_2+x_3 &= -4\\\\\n",
    "  2x_1+2x_2+5x_3 &= 1\\\\\n",
    "  \\end{cases}\n",
    "$\n",
    "\n",
    "2. $\\begin{cases}\n",
    "  4x_1+x_2-x_3+x_4&=-2\\\\\n",
    "  x_1+4x_2-x_3-x_4 &= -1\\\\\n",
    "  -x_1-x_2+5x_3+x_4 &= 0\\\\\n",
    "  x_1-x_2+x_3+3x_4 &= 1\\\\\n",
    "  \\end{cases}$"
   ]
  },
  {
   "cell_type": "code",
   "execution_count": null,
   "metadata": {},
   "outputs": [],
   "source": []
  },
  {
   "cell_type": "markdown",
   "metadata": {},
   "source": [
    "### Exercise 5\n",
    "\n",
    "Solve the tridiagonal system $Ax=f$ with both the Jacobi and Gauss-Seidel method\n",
    "$$ A_{ii}=4,\\enspace A_{i,i-1}=A_{i,i+1}=1 $$\n",
    "for all $i$. Let the order of the system be $n=100$, and let\n",
    "$$ f = [1,1,\\dots, 1]^T $$"
   ]
  },
  {
   "cell_type": "code",
   "execution_count": null,
   "metadata": {},
   "outputs": [],
   "source": []
  }
 ],
 "metadata": {
  "kernelspec": {
   "display_name": "Python 3",
   "language": "python",
   "name": "python3"
  },
  "language_info": {
   "codemirror_mode": {
    "name": "ipython",
    "version": 3
   },
   "file_extension": ".py",
   "mimetype": "text/x-python",
   "name": "python",
   "nbconvert_exporter": "python",
   "pygments_lexer": "ipython3",
   "version": "3.6.9"
  }
 },
 "nbformat": 4,
 "nbformat_minor": 4
}
