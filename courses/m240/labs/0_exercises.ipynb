{
 "cells": [
  {
   "cell_type": "markdown",
   "metadata": {},
   "source": [
    "<h1 style=\"color:red;text-align:center\">Lab 0</h1>\n",
    "\n",
    "These exercises will be to ensure your understanding of the Python modules Numpy, Sympy, and Matplotlib.\n",
    "\n",
    "<strong style=\"color:red;\">Warning: Be Sure To Remove All \\_____ </strong>"
   ]
  },
  {
   "cell_type": "markdown",
   "metadata": {},
   "source": [
    "---"
   ]
  },
  {
   "cell_type": "markdown",
   "metadata": {},
   "source": [
    "## Exercise 0\n",
    "Import and run the following modules: `numpy` as `np` and `matplotlib.pyplot` as `plt`."
   ]
  },
  {
   "cell_type": "code",
   "execution_count": 18,
   "metadata": {},
   "outputs": [],
   "source": [
    "# Place imports here"
   ]
  },
  {
   "cell_type": "markdown",
   "metadata": {},
   "source": [
    "## Exercise 1"
   ]
  },
  {
   "cell_type": "markdown",
   "metadata": {},
   "source": [
    "### Part 1"
   ]
  },
  {
   "cell_type": "markdown",
   "metadata": {},
   "source": [
    "Below shows an x numpy array being initialized and y being set equal to x. Then we change the first element in y to be equal to 2. Notice how when we change the first element in y, the first element in x also changes. "
   ]
  },
  {
   "cell_type": "code",
   "execution_count": 19,
   "metadata": {},
   "outputs": [
    {
     "name": "stdout",
     "output_type": "stream",
     "text": [
      "x: [ 2  5 -2 -3]\n",
      "y: [ 2  5 -2 -3]\n"
     ]
    }
   ],
   "source": [
    "x = np.array([3, 5, -2, -3])\n",
    "y = x\n",
    "\n",
    "y[0] = 2\n",
    "\n",
    "print(\"x:\", x)\n",
    "print(\"y:\", y)"
   ]
  },
  {
   "cell_type": "markdown",
   "metadata": {},
   "source": [
    "Why does x change if y is the array we're changing? Is there any way to prevent x from changing as well?"
   ]
  },
  {
   "cell_type": "markdown",
   "metadata": {},
   "source": [
    "***Answer Here***"
   ]
  },
  {
   "cell_type": "markdown",
   "metadata": {},
   "source": [
    "### Part 2"
   ]
  },
  {
   "cell_type": "markdown",
   "metadata": {},
   "source": [
    "Below we declare x to be a numpy array that contains four values. Notice how when we print the expression `x>2`, it outputs an array of booleans. "
   ]
  },
  {
   "cell_type": "code",
   "execution_count": 20,
   "metadata": {},
   "outputs": [
    {
     "name": "stdout",
     "output_type": "stream",
     "text": [
      "[ True  True False False]\n"
     ]
    }
   ],
   "source": [
    "x = np.array([3, 5, -2, -3])\n",
    "\n",
    "print( x>2 )"
   ]
  },
  {
   "cell_type": "markdown",
   "metadata": {},
   "source": [
    "What do these boolean values represent? How could we use the expression `x>2` to change all the values that are greater than 2 in x?"
   ]
  },
  {
   "cell_type": "markdown",
   "metadata": {},
   "source": [
    "***Answer Here***"
   ]
  },
  {
   "cell_type": "markdown",
   "metadata": {},
   "source": [
    "### Part 3"
   ]
  },
  {
   "cell_type": "markdown",
   "metadata": {},
   "source": [
    "Define a function called `onlyPositive` that accepts a 1D array as input. \n",
    "This function will create a copy of the input array using the `copy()` method from Numpy, use Numpy's fancy indexing to set all negative values in array to 0, and finally return the modified copy."
   ]
  },
  {
   "cell_type": "code",
   "execution_count": null,
   "metadata": {},
   "outputs": [],
   "source": [
    "# Define your function\n",
    "def onlyPositive(array):\n",
    "    # create a new array as a copy of previous array\n",
    "    _____ = _____\n",
    "    \n",
    "    # set all negative values in new array to 0\n",
    "    _____[_____] = 0\n",
    "\n",
    "    # return the new array\n",
    "    return _____"
   ]
  },
  {
   "cell_type": "markdown",
   "metadata": {},
   "source": [
    "## Exercise 2\n",
    "Define a function `f(x)` that is equivalent to $f(x)=x^2$. Using Numpy's `linspace()` method, create an numpy array `x` that contains **10** values on the interval $[1,10]$. Print `f(x)` with our array as input."
   ]
  },
  {
   "cell_type": "code",
   "execution_count": null,
   "metadata": {},
   "outputs": [],
   "source": [
    "# Define your function\n",
    "def _____:\n",
    "    return _____\n",
    "\n",
    "# Create your x array\n",
    "x = np.linspace(_____ , _____ , _____)\n",
    "\n",
    "# Print f(x)\n",
    "print(_____)"
   ]
  },
  {
   "cell_type": "markdown",
   "metadata": {},
   "source": [
    "## Exercise 3"
   ]
  },
  {
   "cell_type": "markdown",
   "metadata": {},
   "source": [
    "### Part 1\n",
    "Create a numpy array `x` using `linspace()` containing **5** elements on the interval $[1,5]$. Create a numpy array `y` containing 5 randomly picked elements however you want(you can also hand pick 5 numbers \"randomly\"). "
   ]
  },
  {
   "cell_type": "code",
   "execution_count": null,
   "metadata": {},
   "outputs": [],
   "source": [
    "# Create your x array below\n",
    "\n",
    "# Create your y array below\n"
   ]
  },
  {
   "cell_type": "markdown",
   "metadata": {},
   "source": [
    "### Part 2\n",
    "Using `matplotlib.pyplot`, graph `x` vs `y`."
   ]
  },
  {
   "cell_type": "code",
   "execution_count": null,
   "metadata": {},
   "outputs": [],
   "source": [
    "plt.plot(_____ , _____)"
   ]
  },
  {
   "cell_type": "markdown",
   "metadata": {},
   "source": [
    "### Part 3\n",
    "Notice from the plot where the x and y are and their order when you call `matplotlib.pyplot`'s `plot()` function. \n",
    "\n",
    "When plotting, is it the first or second parameter that gets set to the y-axis? What are the input types for these two parameters?"
   ]
  },
  {
   "cell_type": "markdown",
   "metadata": {},
   "source": [
    "***Answer Here***"
   ]
  },
  {
   "cell_type": "markdown",
   "metadata": {},
   "source": [
    "## Exercise 4"
   ]
  },
  {
   "cell_type": "markdown",
   "metadata": {},
   "source": [
    "Plot the function $f(x)=x^2 - 3$ on the interval $[-1, 10]$.\n",
    "Add the label for x and y using Matplotlib's `xlabel()` and `ylabel()`.\n",
    "Add the legend using `legend()`, and add a title using `title()`."
   ]
  },
  {
   "cell_type": "code",
   "execution_count": null,
   "metadata": {},
   "outputs": [],
   "source": [
    "# Define your f function below\n",
    "\n",
    "\n",
    "# Use the linspace function to define values of x below\n",
    "\n",
    "\n",
    "# Plot the function using pyplot below\n",
    "plt.plot(_____ , _____)\n",
    "\n",
    "# Add a title\n",
    "plt.title(_____)\n",
    "\n",
    "# Add a x-label\n",
    "plt.xlabel(_____)\n",
    "\n",
    "# Add a y-label\n",
    "plt.ylabel(_____)\n"
   ]
  },
  {
   "cell_type": "markdown",
   "metadata": {},
   "source": [
    "## Exercise 5"
   ]
  },
  {
   "cell_type": "markdown",
   "metadata": {},
   "source": [
    "### Part 1\n",
    "Plot the functions $f(x)=\\frac{x}{x^2 + 2x + 1}$ and $g(x)=\\frac{x^2}{2x^2 + 2x - 1}$ on the interval $[0, 1]$ where `x` is a multiple of 2 (Hint: `x%2==0`). Be sure to include a **title**, **labels**, and a **legend**. Make sure that $f(x)$ and $g(x)$ are on the same graph."
   ]
  },
  {
   "cell_type": "code",
   "execution_count": null,
   "metadata": {},
   "outputs": [],
   "source": [
    "# Define your f function below\n",
    "\n",
    "\n",
    "# Define your g function below\n",
    "\n",
    "\n",
    "# Use the linspace function to define values of x below\n",
    "\n",
    "\n",
    "# Plot the f function using pyplot below\n",
    "plt.plot(_____ , _____)\n",
    "\n",
    "# Plot the g function using pyplot below\n",
    "plt.plot(_____ , _____)\n",
    "\n",
    "# Add a title\n",
    "plt.title(_____)\n",
    "\n",
    "# Add a x-label\n",
    "plt.xlabel(_____)\n",
    "\n",
    "# Add a y-label\n",
    "plt.ylabel(_____)\n",
    "\n",
    "# Add a legend\n",
    "plt.legend([_____ , _____])"
   ]
  },
  {
   "cell_type": "markdown",
   "metadata": {},
   "source": [
    "### Part 2\n",
    "Notice how legend takes in an array as a parameter. Why do you think this is? How would you specify multiple legend names at once?"
   ]
  },
  {
   "cell_type": "markdown",
   "metadata": {},
   "source": [
    "***Answer Here***"
   ]
  }
 ],
 "metadata": {
  "kernelspec": {
   "display_name": "Python 3",
   "language": "python",
   "name": "python3"
  },
  "language_info": {
   "codemirror_mode": {
    "name": "ipython",
    "version": 3
   },
   "file_extension": ".py",
   "mimetype": "text/x-python",
   "name": "python",
   "nbconvert_exporter": "python",
   "pygments_lexer": "ipython3",
   "version": "3.6.9"
  }
 },
 "nbformat": 4,
 "nbformat_minor": 4
}
