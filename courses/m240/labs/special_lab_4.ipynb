{
 "cells": [
  {
   "cell_type": "markdown",
   "metadata": {},
   "source": [
    "# Special Lab 4"
   ]
  },
  {
   "cell_type": "code",
   "execution_count": 1,
   "metadata": {},
   "outputs": [],
   "source": [
    "# IMPORTS"
   ]
  },
  {
   "cell_type": "markdown",
   "metadata": {},
   "source": [
    "## Exericse 1\n",
    "\n",
    "Water flows from an inverted conical tank with circular orifice at the rate \n",
    "\n",
    "$$\\frac{dx}{dt}=-0.6\\pi r^2\\sqrt{2g}\\frac{\\sqrt{x}}{A(x)}$$\n",
    "\n",
    "where r is the radius of the orifice, x is the height of the liquid level from the vertex of the cone, and A{x) is the area of the cross section of the tank x units above the orifice. Suppose r = 0.1 ft, g = 32.1 ft/$s^2$, and the tank has an initial water level of 8 ft and initial volume of $512(\\pi/3)$ $ft^3$. Use \n",
    "the Runge-Kutta method of order four to find the following: \n",
    "\n",
    "1. The water level after 10 min with h = 20 s \n",
    "2. When the tank will be empty, to within 1 min "
   ]
  },
  {
   "cell_type": "code",
   "execution_count": null,
   "metadata": {},
   "outputs": [],
   "source": []
  },
  {
   "cell_type": "markdown",
   "metadata": {},
   "source": [
    "## Exercise 2\n",
    "\n",
    "Develop a numerical method to solve\n",
    "\n",
    "$$\\frac{d^2y}{dt^2}=f(t,y,\\frac{dy}{dt})$$"
   ]
  },
  {
   "cell_type": "code",
   "execution_count": null,
   "metadata": {},
   "outputs": [],
   "source": []
  }
 ],
 "metadata": {
  "kernelspec": {
   "display_name": "Python 3",
   "language": "python",
   "name": "python3"
  },
  "language_info": {
   "codemirror_mode": {
    "name": "ipython",
    "version": 3
   },
   "file_extension": ".py",
   "mimetype": "text/x-python",
   "name": "python",
   "nbconvert_exporter": "python",
   "pygments_lexer": "ipython3",
   "version": "3.6.9"
  }
 },
 "nbformat": 4,
 "nbformat_minor": 4
}
