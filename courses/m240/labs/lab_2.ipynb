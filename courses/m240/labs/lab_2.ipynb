{
 "cells": [
  {
   "cell_type": "markdown",
   "metadata": {},
   "source": [
    "# Lab 2: Root Finding"
   ]
  },
  {
   "cell_type": "code",
   "execution_count": 88,
   "metadata": {},
   "outputs": [],
   "source": [
    "#import"
   ]
  },
  {
   "cell_type": "markdown",
   "metadata": {},
   "source": [
    "## Newton's method"
   ]
  },
  {
   "cell_type": "markdown",
   "metadata": {},
   "source": [
    "### Exercise 1\n",
    "\n",
    "Write a function that take into argument a function, its derivative, an initial guess, a tolerance, a maximum number of iteration and return the zero of the function using Newton's method. Then, compute the root of  $f(x)=x^6-x-1.0$ using Newton's method with tolerance $10^{-10}$ and with starting point $1.0$. It should take $6$ iterations and the root is $1.1347$"
   ]
  },
  {
   "cell_type": "code",
   "execution_count": null,
   "metadata": {},
   "outputs": [],
   "source": []
  },
  {
   "cell_type": "markdown",
   "metadata": {},
   "source": [
    "### Exercise 2\n",
    "\n",
    "Use your Newton's method function to find all the roots of $f(x)=32x^6-48x^4+18x^2-1$ within $10^{-10}$ accuracy."
   ]
  },
  {
   "cell_type": "code",
   "execution_count": null,
   "metadata": {},
   "outputs": [],
   "source": []
  },
  {
   "cell_type": "markdown",
   "metadata": {},
   "source": [
    "### Exercise 3\n",
    "\n",
    "Solve the equation\n",
    "$$x^3-3x^2+3x-1=0$$\n",
    "using Newton's method. (as accurately as possible, this means tolerence = $10^{-16}$)"
   ]
  },
  {
   "cell_type": "code",
   "execution_count": null,
   "metadata": {},
   "outputs": [],
   "source": []
  },
  {
   "cell_type": "markdown",
   "metadata": {},
   "source": [
    "### Exercise 4\n",
    "\n",
    "The equation\n",
    "$$x + e^{-Bx^2}\\cos(x)$$\n",
    "has a unique root in the interval $[-1,1]$. Use Newton's method to find it as accurately as possible. Use the values of $B=1, 5, 10, 25, 50$. What should be a good choice for $x0$? Explain the behavior observed in the iterates for the larger values of $B$."
   ]
  },
  {
   "cell_type": "code",
   "execution_count": null,
   "metadata": {},
   "outputs": [],
   "source": []
  },
  {
   "cell_type": "markdown",
   "metadata": {},
   "source": [
    "### Exercise 5\n",
    "\n",
    "Let us compute $\\sqrt[m]{a}$, with $a>0$ and $m$ a positive integer. Find a way to apply the Newton's method to this problem to find $\\sqrt[m]{2}$ for $m=3,4,5,6,7,8,$ say to six significant digits."
   ]
  },
  {
   "cell_type": "code",
   "execution_count": null,
   "metadata": {},
   "outputs": [],
   "source": []
  },
  {
   "cell_type": "markdown",
   "metadata": {},
   "source": [
    "## Secant Method"
   ]
  },
  {
   "cell_type": "markdown",
   "metadata": {},
   "source": [
    "### Exercise 6\n",
    "\n",
    "Solve the equation\n",
    "$$x^3-3x^2+3x-1=0$$\n",
    "using the secant's method. (as accurately as possible, this means tolerence = $10^{-16}$)\n"
   ]
  },
  {
   "cell_type": "code",
   "execution_count": null,
   "metadata": {},
   "outputs": [],
   "source": []
  },
  {
   "cell_type": "markdown",
   "metadata": {},
   "source": [
    "## Fixed Point Method"
   ]
  },
  {
   "cell_type": "markdown",
   "metadata": {},
   "source": [
    "### Exercise 7\n",
    "\n",
    "We can convert the equation $x^2-5=0$ into a fixed-point problem:\n",
    "$$x=x+c(x^2-5)$$\n",
    "Find a $c$  such that the fixed point methods converges to the solution."
   ]
  }
 ],
 "metadata": {
  "kernelspec": {
   "display_name": "Python 3",
   "language": "python",
   "name": "python3"
  },
  "language_info": {
   "codemirror_mode": {
    "name": "ipython",
    "version": 3
   },
   "file_extension": ".py",
   "mimetype": "text/x-python",
   "name": "python",
   "nbconvert_exporter": "python",
   "pygments_lexer": "ipython3",
   "version": "3.6.9"
  }
 },
 "nbformat": 4,
 "nbformat_minor": 4
}
