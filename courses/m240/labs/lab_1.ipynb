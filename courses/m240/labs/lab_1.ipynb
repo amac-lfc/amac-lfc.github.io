{
 "cells": [
  {
   "cell_type": "markdown",
   "metadata": {},
   "source": [
    "# Lab 1: Taylor Polynomial "
   ]
  },
  {
   "cell_type": "markdown",
   "metadata": {},
   "source": [
    "Example on how to plot:\n",
    "\n",
    "```python\n",
    "# define the functions\n",
    "def f(x):\n",
    "    return x\n",
    "    \n",
    "def P(x):\n",
    "    return 2*x\n",
    "    \n",
    "# we pick a 100 points between -1 and 10\n",
    "x = np.linspace(0,1,100)\n",
    "\n",
    "plt.figure(1)\n",
    "plt.clf()\n",
    "plt.plot(x,f(x),label=\"1\")\n",
    "plt.plot(x,P(x),label=\"1\")\n",
    "plt.legend()\n",
    "plt.show()\n",
    "```\n",
    "\n",
    "**Remark**: do not forget to import matplotlib and numpy"
   ]
  },
  {
   "cell_type": "markdown",
   "metadata": {},
   "source": [
    "## Exercise 1\n",
    "\n",
    "Plot the Taylor approximation of $\\frac{1}{1-x}$ of degree $4$ centered at 0, for $x$ in $[-0.5,0.5]$"
   ]
  },
  {
   "cell_type": "code",
   "execution_count": null,
   "metadata": {},
   "outputs": [],
   "source": []
  },
  {
   "cell_type": "markdown",
   "metadata": {},
   "source": [
    "## Exercise 2\n",
    "\n",
    "Does $f(x)=\\sqrt[3]{x}$ have a Taylor polynomial approximation of degree 1 based on expanding about $x=0$? $x=1$? Explain and justify your answers."
   ]
  },
  {
   "cell_type": "code",
   "execution_count": null,
   "metadata": {},
   "outputs": [],
   "source": []
  },
  {
   "cell_type": "markdown",
   "metadata": {},
   "source": [
    "## Exercise 3\n",
    "\n",
    "Plot on the $x-$interval $[0,2\\pi]$: $\\sin(x)$, $P_1(x)$, $P_3(x)$, $P_5(x)$, where the Taylor polynomials are centered at $\\pi$."
   ]
  },
  {
   "cell_type": "code",
   "execution_count": null,
   "metadata": {},
   "outputs": [],
   "source": []
  },
  {
   "cell_type": "markdown",
   "metadata": {},
   "source": [
    "## Exercise 4\n",
    "Plot on the $x-$interval $[-1,5]$ and $y-$ interval $[-0.5,1]$: $e^{-x}\\sin(x)$, $P_1(x)$, $P_2(x)$, $P_{3}(x)$,  where the Taylor polynomials are centered at $x=0$."
   ]
  },
  {
   "cell_type": "code",
   "execution_count": null,
   "metadata": {},
   "outputs": [],
   "source": []
  },
  {
   "cell_type": "markdown",
   "metadata": {},
   "source": [
    "## Exercise 5\n",
    "\n",
    "Plot the Taylor of polynomial of degree 2 for $e^x\\sin(x)$, centered at 0. Bound the error in this approximation when $-\\pi/4\\leq x \\leq \\pi/4$."
   ]
  },
  {
   "cell_type": "code",
   "execution_count": null,
   "metadata": {},
   "outputs": [],
   "source": []
  },
  {
   "cell_type": "markdown",
   "metadata": {},
   "source": [
    "## Exercise 6\n",
    "\n",
    "Bound the error of the approximation of $\\sin(x)$ by $x$ for $-\\pi/4\\leq x \\leq \\pi/4$. The Error means the maximum difference of $|\\sin(x)-x|$ when $x$ is $-\\pi/4\\leq x \\leq \\pi/4$. If you plot the error is that what you see?"
   ]
  },
  {
   "cell_type": "code",
   "execution_count": null,
   "metadata": {},
   "outputs": [],
   "source": []
  },
  {
   "cell_type": "markdown",
   "metadata": {},
   "source": [
    "## Exercise 7\n",
    "Let $P_n(x)$ be the Taylor polynomial of degree $n$ of the function $f(x)=\\log(1-x)$ about $a=0$. How large should $n$ be chosen to have $|f(x)-P_n(x)|\\leq 10^{-4}$ for $-1/2\\leq x \\leq 1/2$?"
   ]
  },
  {
   "cell_type": "code",
   "execution_count": null,
   "metadata": {},
   "outputs": [],
   "source": []
  },
  {
   "cell_type": "markdown",
   "metadata": {},
   "source": [
    "## Exercise 8\n",
    "\n",
    "\n",
    "* Plot, on the interval $(-10,1)$, $e^x$ and its Taylor polynomials of degrees 1, 2, 3, 4 for $f(x)=e^{x}$, with $a=0$ (we will denote them $P_1$, $P_2$, $P_3$, and $P_4$. What happens when $x$ is negative?\n",
    "* Now, using the fact that $e^{x}=\\frac{1}{e^{-x}}$, compute the Taylor polynomial of degree 4 of $e^{-x}$, that we denote $\\tilde P_4$, then add $\\tilde P_4$ to the previous plot. What can you conclude?\n",
    "* Then, if you where to approximate $e^{-10}$ with a polynomial of degree 4 how would you do it?\n",
    "* We can do even better! We want a better approximation of $e^{-10}$ but we do not want to use a polynomial of higher degree than 4. How could you improve the previous approximation? (Hint: $e^{2x} = (e^x)^2$)\n"
   ]
  },
  {
   "cell_type": "code",
   "execution_count": null,
   "metadata": {},
   "outputs": [],
   "source": []
  },
  {
   "cell_type": "markdown",
   "metadata": {},
   "source": [
    "## Bonus\n",
    "\n",
    "Using Taylor's formula how would you apprimation the derivative of a function?"
   ]
  }
 ],
 "metadata": {
  "kernelspec": {
   "display_name": "Python 3",
   "language": "python",
   "name": "python3"
  },
  "language_info": {
   "codemirror_mode": {
    "name": "ipython",
    "version": 3
   },
   "file_extension": ".py",
   "mimetype": "text/x-python",
   "name": "python",
   "nbconvert_exporter": "python",
   "pygments_lexer": "ipython3",
   "version": "3.6.9"
  }
 },
 "nbformat": 4,
 "nbformat_minor": 4
}
