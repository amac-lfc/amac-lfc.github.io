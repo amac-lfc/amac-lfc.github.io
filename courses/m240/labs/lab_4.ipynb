{
 "cells": [
  {
   "cell_type": "markdown",
   "metadata": {},
   "source": [
    "# Lab 4: Solving ODE"
   ]
  },
  {
   "cell_type": "code",
   "execution_count": 1,
   "metadata": {},
   "outputs": [],
   "source": [
    "# IMPORTS\n",
    "import numpy as np\n",
    "import matplotlib.pyplot as plt"
   ]
  },
  {
   "cell_type": "markdown",
   "metadata": {},
   "source": [
    "## Euler's Explicit Method"
   ]
  },
  {
   "cell_type": "markdown",
   "metadata": {},
   "source": [
    "### Exercise 1\n",
    "\n",
    "Write a function for Euler methods. Then find and write a test for it."
   ]
  },
  {
   "cell_type": "code",
   "execution_count": 5,
   "metadata": {},
   "outputs": [],
   "source": []
  },
  {
   "cell_type": "markdown",
   "metadata": {},
   "source": [
    "### Exercise 2\n",
    "\n",
    "Use Euler's method to approximate/plot the solutions for each of the following initial-value problems. (Plot your solution for all the values of t)\n",
    "1. $y'=e^{t-y}$, $0\\leq t \\leq 1$, $y(0)=1$, with $h=0.5$\n",
    "2. $y'=\\frac{1+t}{1+y}$, $1\\leq t \\leq 2$, $y(1)=2$, with $h=0.5$\n",
    "3. $y' = t^{-2}(\\sin2t - 2ty)$, $1 \\leq t \\leq 2$, $y(l) = 2$, with $h = 0.25 $"
   ]
  },
  {
   "cell_type": "code",
   "execution_count": 6,
   "metadata": {},
   "outputs": [],
   "source": []
  },
  {
   "cell_type": "markdown",
   "metadata": {},
   "source": [
    "### Exercise 3\n",
    "\n",
    "Use Euler's method to approximate/plot the solutions for each of the following initial-value problem.\n",
    "$$ y'= \\frac{2-2ty}{t^2+1}, ~~~~ 1\\leq t \\leq 2, ~~~~ y(0)=1, ~~~~ h=0.5$$\n",
    "The actual solutions to die initial-value is given here. Compute/plot the actual error of your approximation and bound the error.\n",
    "$$y(t)=\\frac{2t+2}{t^2+1}$$"
   ]
  },
  {
   "cell_type": "code",
   "execution_count": null,
   "metadata": {},
   "outputs": [],
   "source": []
  },
  {
   "cell_type": "markdown",
   "metadata": {},
   "source": [
    "### Exercise 4\n",
    "\n",
    "Given the initial-value problem \n",
    "$$y'=-y+t+1,  \\; 0 \\leq t \\leq 5, \\; y(0)=1$$\n",
    "The exact solution is $y(t)=e^{-t}+t$.\n",
    "1. Approximate y(5) using Euler's method with h = 0.2, h =0.1, and h = 0.05. \n",
    "2. Determine the optimal value of h to use in computing y(5), assuming that we want an accuracy of $10^{-6}$ "
   ]
  },
  {
   "cell_type": "code",
   "execution_count": null,
   "metadata": {},
   "outputs": [],
   "source": []
  },
  {
   "cell_type": "markdown",
   "metadata": {},
   "source": [
    "## Runge Kutta Methods"
   ]
  },
  {
   "cell_type": "markdown",
   "metadata": {},
   "source": [
    "### Exercise 5\n",
    "\n",
    "Use the Runge Kutta Method method to approximate the solutions to each of the following initial-value \n",
    "problems and compare/plot the results to the actual values. \n",
    "$$ y' = te^{3t} - 2y,\\; 0 < t < 1, \\; y(0) = 0$$\n",
    "with h = 0.5; actual solution $y(t) = \\frac{1}{5}te^{3t} -\\frac{1}{25}e^{3t} +\\frac{1}{25}e^{-2t}$."
   ]
  },
  {
   "cell_type": "code",
   "execution_count": null,
   "metadata": {},
   "outputs": [],
   "source": []
  },
  {
   "cell_type": "markdown",
   "metadata": {},
   "source": [
    "### Exercise 6\n",
    "\n",
    "Use the Runge Kutta method to approximate/plot the solutions to each of the following initial-value \n",
    "1. $ y' = 1+(t-y)^2,\\; 2 < t < 3, \\; y(2) = 1$, with $h=0.5$\n",
    "2. $ y' = 1+\\frac{y}{t},\\; 1 < t < 1, \\; y(1) = 2$, with $h=0.25$"
   ]
  },
  {
   "cell_type": "code",
   "execution_count": null,
   "metadata": {},
   "outputs": [],
   "source": []
  },
  {
   "cell_type": "markdown",
   "metadata": {},
   "source": [
    "## Euler's implcit Method"
   ]
  },
  {
   "cell_type": "markdown",
   "metadata": {},
   "source": [
    "## Exercise 7\n",
    "Use the Euler Implicit method to approximate/plot the solutions to each of the following initial-value \n",
    "1. $y' = -ty + 4t/y$, $0 \\leq t \\leq 1$, $y(0) = 1$, with $h = 0.1$\n",
    "2. $y' = \\frac{y^2+y}{t}$, $1 \\leq  t  \\leq 3$, $y(l) = -2$, with $h = 0.2$ "
   ]
  },
  {
   "cell_type": "code",
   "execution_count": null,
   "metadata": {},
   "outputs": [],
   "source": []
  }
 ],
 "metadata": {
  "kernelspec": {
   "display_name": "Python 3",
   "language": "python",
   "name": "python3"
  },
  "language_info": {
   "codemirror_mode": {
    "name": "ipython",
    "version": 3
   },
   "file_extension": ".py",
   "mimetype": "text/x-python",
   "name": "python",
   "nbconvert_exporter": "python",
   "pygments_lexer": "ipython3",
   "version": "3.6.9"
  }
 },
 "nbformat": 4,
 "nbformat_minor": 4
}
