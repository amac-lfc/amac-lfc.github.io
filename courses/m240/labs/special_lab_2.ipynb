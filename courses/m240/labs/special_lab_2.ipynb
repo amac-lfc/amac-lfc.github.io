{
 "cells": [
  {
   "cell_type": "markdown",
   "metadata": {},
   "source": [
    "# Lab 2 : the sequel"
   ]
  },
  {
   "cell_type": "markdown",
   "metadata": {},
   "source": [
    "NAMES : __ __ __"
   ]
  },
  {
   "cell_type": "code",
   "execution_count": 45,
   "metadata": {},
   "outputs": [],
   "source": [
    "#import"
   ]
  },
  {
   "cell_type": "markdown",
   "metadata": {},
   "source": [
    "## Exercise 1"
   ]
  },
  {
   "cell_type": "markdown",
   "metadata": {},
   "source": [
    "Problems involving the amount of money required to pay off a mortgage over a fixed period of time \n",
    "involve the formula \n",
    "$$A=\\frac{P}{i}\\left[ 1-(1+i)^{-n}\\right]$$\n",
    "known as an ordinary annuity equation. In this equation, A is the amount of the mortgage, P is the \n",
    "amount of each payment, and i is the interest rate per period for the n payment periods. Suppose that \n",
    "a 30-year home mortgage in the amount of \\\\$135,000 is needed and that the borrower can afford house \n",
    "payments of at most \\\\$1000 per month. What is the maximal interest rate the borrower can afford to \n",
    "pay? \n",
    "\n",
    "\n"
   ]
  },
  {
   "cell_type": "code",
   "execution_count": null,
   "metadata": {},
   "outputs": [],
   "source": []
  },
  {
   "cell_type": "markdown",
   "metadata": {},
   "source": [
    "## Exercise 2\n",
    "\n",
    "Player A will shut out (win by a score of 21-0) player B in a game of racquetball with probability\n",
    "$$P=\\frac{1+p}{2}\\left(\\frac{p}{1-p+p^2}\\right)^{21}$$\n",
    "\n",
    "where $p$ denotes the probability A will win any specific rally. Determine, to within $10^{-3}$, the minimal value of $p$ that will ensure that A will shut out B \n",
    "in at least half the matches they play. \n"
   ]
  },
  {
   "cell_type": "code",
   "execution_count": null,
   "metadata": {},
   "outputs": [],
   "source": []
  },
  {
   "cell_type": "markdown",
   "metadata": {},
   "source": [
    "## Exercise 3\n",
    "\n",
    "Find the minimum value of\n",
    "$$(1-x)^2+e^{x^2}-\\log( (2-x)^2)$$"
   ]
  },
  {
   "cell_type": "code",
   "execution_count": null,
   "metadata": {},
   "outputs": [],
   "source": []
  }
 ],
 "metadata": {
  "kernelspec": {
   "display_name": "Python 3",
   "language": "python",
   "name": "python3"
  },
  "language_info": {
   "codemirror_mode": {
    "name": "ipython",
    "version": 3
   },
   "file_extension": ".py",
   "mimetype": "text/x-python",
   "name": "python",
   "nbconvert_exporter": "python",
   "pygments_lexer": "ipython3",
   "version": "3.6.9"
  }
 },
 "nbformat": 4,
 "nbformat_minor": 4
}
